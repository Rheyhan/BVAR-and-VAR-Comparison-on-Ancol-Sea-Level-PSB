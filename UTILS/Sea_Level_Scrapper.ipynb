{
 "cells": [
  {
   "cell_type": "code",
   "execution_count": 120,
   "metadata": {},
   "outputs": [],
   "source": [
    "from bs4 import BeautifulSoup\n",
    "import requests\n",
    "import datetime\n",
    "from dateutil.relativedelta import relativedelta\n",
    "import re\n",
    "from tqdm import tqdm\n",
    "import pandas as pd"
   ]
  },
  {
   "cell_type": "code",
   "execution_count": 72,
   "metadata": {},
   "outputs": [
    {
     "data": {
      "text/plain": [
       "[['2023-01-01', '2023-01-31'],\n",
       " ['2023-02-01', '2023-02-28'],\n",
       " ['2023-03-01', '2023-03-31'],\n",
       " ['2023-04-01', '2023-04-30'],\n",
       " ['2023-05-01', '2023-05-31'],\n",
       " ['2023-06-01', '2023-06-30'],\n",
       " ['2023-07-01', '2023-07-31'],\n",
       " ['2023-08-01', '2023-08-31'],\n",
       " ['2023-09-01', '2023-09-30'],\n",
       " ['2023-10-01', '2023-10-31'],\n",
       " ['2023-11-01', '2023-11-30'],\n",
       " ['2023-12-01', '2023-12-31'],\n",
       " ['2024-01-01', '2024-01-31'],\n",
       " ['2024-02-01', '2024-02-29'],\n",
       " ['2024-03-01', '2024-03-01']]"
      ]
     },
     "execution_count": 72,
     "metadata": {},
     "output_type": "execute_result"
    }
   ],
   "source": [
    "UID_PINTUAIR=140\n",
    "start_date = datetime.datetime(2023, 1, 1)\n",
    "end_date = datetime.datetime(2024, 3, 1)\n",
    "\n",
    "#divide into months so scrape will work\n",
    "selected_months=[]\n",
    "current_date = start_date\n",
    "while current_date <= end_date:\n",
    "    formatted_date = current_date.strftime(\"%Y-%m-%d\")\n",
    "    current_date += relativedelta(months=1)\n",
    "    selected_months.append([formatted_date, (current_date-relativedelta(days=1)).strftime(\"%Y-%m-%d\")])\n",
    "selected_months[-1][-1]=\"2024-03-01\"\n",
    "selected_months"
   ]
  },
  {
   "cell_type": "code",
   "execution_count": 122,
   "metadata": {},
   "outputs": [
    {
     "name": "stderr",
     "output_type": "stream",
     "text": [
      "100%|██████████| 15/15 [00:20<00:00,  1.35s/it]\n"
     ]
    }
   ],
   "source": [
    "thedata=[]\n",
    "for i in tqdm(selected_months):\n",
    "    URL = f'https://ews.tri3a.com/Pages/GenerateDataTinggiAir.aspx?IdPintuAir={UID_PINTUAIR}&StartDate={i[0]}&EndDate={i[1]}'\n",
    "    r = requests.get(URL)\n",
    "    soup=BeautifulSoup(r.content)\n",
    "    temp=re.split(r';', soup.find(\"p\").text)\n",
    "    for j in temp:\n",
    "        try:\n",
    "            if i[0] <= re.search(r'\\d{4}-\\d{2}-\\d{2}', j)[0] <=i[1]:\n",
    "                thedata.append(j.split(\",\"))\n",
    "        except:\n",
    "            pass"
   ]
  },
  {
   "cell_type": "code",
   "execution_count": 124,
   "metadata": {},
   "outputs": [],
   "source": [
    "pd.DataFrame(thedata, columns=[\"date\", \"Sea level (cm)\"]).to_csv(\"../Data/Raw/Sea level.csv\", index=False)"
   ]
  }
 ],
 "metadata": {
  "kernelspec": {
   "display_name": "Python 3",
   "language": "python",
   "name": "python3"
  },
  "language_info": {
   "codemirror_mode": {
    "name": "ipython",
    "version": 3
   },
   "file_extension": ".py",
   "mimetype": "text/x-python",
   "name": "python",
   "nbconvert_exporter": "python",
   "pygments_lexer": "ipython3",
   "version": "3.11.9"
  }
 },
 "nbformat": 4,
 "nbformat_minor": 2
}
