{
 "cells": [
  {
   "cell_type": "code",
   "execution_count": 35,
   "metadata": {},
   "outputs": [],
   "source": [
    "import os\n",
    "import datetime\n",
    "import re\n",
    "from dateutil.relativedelta import relativedelta"
   ]
  },
  {
   "cell_type": "code",
   "execution_count": 37,
   "metadata": {},
   "outputs": [],
   "source": [
    "PATH=\"../DATA/RAW/Laporan Iklim\"\n",
    "FILELIST=os.listdir(PATH)"
   ]
  },
  {
   "cell_type": "code",
   "execution_count": 38,
   "metadata": {},
   "outputs": [],
   "source": [
    "# Sorting File\n",
    "temp=[]\n",
    "for file in FILELIST:\n",
    "    if number:=re.search(r'\\d+', file):\n",
    "        temp.append((file, int(number[0])))\n",
    "temp=sorted(temp, key=lambda x:x[1])"
   ]
  },
  {
   "cell_type": "code",
   "execution_count": 39,
   "metadata": {},
   "outputs": [
    {
     "data": {
      "text/plain": [
       "[('laporan_iklim_harian (0).xlsx', 0),\n",
       " ('laporan_iklim_harian (1).xlsx', 1),\n",
       " ('laporan_iklim_harian (2).xlsx', 2),\n",
       " ('laporan_iklim_harian (3).xlsx', 3),\n",
       " ('laporan_iklim_harian (4).xlsx', 4),\n",
       " ('laporan_iklim_harian (5).xlsx', 5),\n",
       " ('laporan_iklim_harian (6).xlsx', 6),\n",
       " ('laporan_iklim_harian (7).xlsx', 7),\n",
       " ('laporan_iklim_harian (8).xlsx', 8),\n",
       " ('laporan_iklim_harian (9).xlsx', 9),\n",
       " ('laporan_iklim_harian (10).xlsx', 10),\n",
       " ('laporan_iklim_harian (11).xlsx', 11),\n",
       " ('laporan_iklim_harian (12).xlsx', 12),\n",
       " ('laporan_iklim_harian (13).xlsx', 13)]"
      ]
     },
     "execution_count": 39,
     "metadata": {},
     "output_type": "execute_result"
    }
   ],
   "source": [
    "temp"
   ]
  },
  {
   "cell_type": "code",
   "execution_count": 41,
   "metadata": {},
   "outputs": [],
   "source": [
    "start_date = datetime.datetime(2023, 1, 1)\n",
    "end_date = datetime.datetime(2024, 2, 1)\n",
    "\n",
    "current_date = start_date\n",
    "counter=0\n",
    "while current_date <= end_date:\n",
    "    formatted_date = current_date.strftime(\"%Y-%m\")\n",
    "    os.rename(f'{PATH}/{temp[counter][0]}', f'{PATH}/{formatted_date}.xlsx')\n",
    "    counter+=1\n",
    "    current_date += relativedelta(months=1)"
   ]
  }
 ],
 "metadata": {
  "kernelspec": {
   "display_name": "Python 3",
   "language": "python",
   "name": "python3"
  },
  "language_info": {
   "codemirror_mode": {
    "name": "ipython",
    "version": 3
   },
   "file_extension": ".py",
   "mimetype": "text/x-python",
   "name": "python",
   "nbconvert_exporter": "python",
   "pygments_lexer": "ipython3",
   "version": "3.11.8"
  }
 },
 "nbformat": 4,
 "nbformat_minor": 2
}
