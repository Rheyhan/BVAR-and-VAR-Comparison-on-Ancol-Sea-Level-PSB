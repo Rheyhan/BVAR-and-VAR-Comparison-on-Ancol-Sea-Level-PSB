{
 "cells": [
  {
   "cell_type": "code",
   "execution_count": 284,
   "metadata": {},
   "outputs": [],
   "source": [
    "import numpy as np\n",
    "import sys"
   ]
  },
  {
   "cell_type": "code",
   "execution_count": 285,
   "metadata": {},
   "outputs": [
    {
     "data": {
      "text/plain": [
       "'3.11.4 | packaged by Anaconda, Inc. | (main, Jul  5 2023, 13:47:18) [MSC v.1916 64 bit (AMD64)]'"
      ]
     },
     "execution_count": 285,
     "metadata": {},
     "output_type": "execute_result"
    }
   ],
   "source": [
    "sys.version"
   ]
  },
  {
   "cell_type": "code",
   "execution_count": 310,
   "metadata": {},
   "outputs": [
    {
     "name": "stdout",
     "output_type": "stream",
     "text": [
      "P-value: 1.0\n"
     ]
    }
   ],
   "source": [
    "import numpy as np\n",
    "\n",
    "# Data asli\n",
    "impresi_A = 100000\n",
    "clicks_A = 2500\n",
    "impresi_B = 80000\n",
    "clicks_B = 2000\n",
    "\n",
    "# Hitung rasio klik-impresi\n",
    "rasio_A = clicks_A / impresi_A\n",
    "rasio_B = clicks_B / impresi_B\n",
    "observed_diff = rasio_A - rasio_B\n",
    "\n",
    "# Gabungkan data\n",
    "total_clicks = clicks_A + clicks_B\n",
    "total_impresi = impresi_A + impresi_B\n",
    "rasio_gabungan = total_clicks / total_impresi\n",
    "\n",
    "# Simulasi Monte Carlo\n",
    "N = 10000\n",
    "diffs = []\n",
    "\n",
    "for _ in range(N):\n",
    "    simulated_clicks_A = np.random.binomial(impresi_A, rasio_gabungan)\n",
    "    simulated_clicks_B = total_clicks - simulated_clicks_A\n",
    "    \n",
    "    simulated_rasio_A = simulated_clicks_A / impresi_A\n",
    "    simulated_rasio_B = simulated_clicks_B / impresi_B\n",
    "    \n",
    "    diffs.append(simulated_rasio_A - simulated_rasio_B)\n",
    "\n",
    "# Hitung p-value\n",
    "extreme_diffs = [diff for diff in diffs if abs(diff) >= abs(observed_diff)]\n",
    "p_value = len(extreme_diffs) / N\n",
    "\n",
    "\n",
    "print(f'P-value: {p_value}')"
   ]
  },
  {
   "cell_type": "code",
   "execution_count": 309,
   "metadata": {},
   "outputs": [
    {
     "name": "stdout",
     "output_type": "stream",
     "text": [
      "95% confidence interval: (-0.0014599999999999995, 0.0014650625)\n"
     ]
    }
   ],
   "source": [
    "# Data asli\n",
    "impresi_A = 100000\n",
    "clicks_A = 2500\n",
    "impresi_B = 80000\n",
    "clicks_B = 2000\n",
    "\n",
    "# Hitung rasio asli\n",
    "rasio_A = clicks_A / impresi_A\n",
    "rasio_B = clicks_B / impresi_B\n",
    "\n",
    "# Bootstrap Resampling\n",
    "N = 10000\n",
    "bootstrap_diffs = []\n",
    "\n",
    "for _ in range(N):\n",
    "    bootstrap_clicks_A = np.random.binomial(impresi_A, rasio_A)\n",
    "    bootstrap_clicks_B = np.random.binomial(impresi_B, rasio_B)\n",
    "    \n",
    "    bootstrap_rasio_A = bootstrap_clicks_A / impresi_A\n",
    "    bootstrap_rasio_B = bootstrap_clicks_B / impresi_B\n",
    "    \n",
    "    bootstrap_diffs.append(bootstrap_rasio_A - bootstrap_rasio_B)\n",
    "\n",
    "# Hitung selang kepercayaan 95%\n",
    "lower_bound = np.percentile(bootstrap_diffs, 2.5)\n",
    "upper_bound = np.percentile(bootstrap_diffs, 97.5)\n",
    "    \n",
    "print(f'95% confidence interval: ({lower_bound}, {upper_bound})')"
   ]
  }
 ],
 "metadata": {
  "kernelspec": {
   "display_name": "base",
   "language": "python",
   "name": "python3"
  },
  "language_info": {
   "codemirror_mode": {
    "name": "ipython",
    "version": 3
   },
   "file_extension": ".py",
   "mimetype": "text/x-python",
   "name": "python",
   "nbconvert_exporter": "python",
   "pygments_lexer": "ipython3",
   "version": "3.11.4"
  }
 },
 "nbformat": 4,
 "nbformat_minor": 2
}
