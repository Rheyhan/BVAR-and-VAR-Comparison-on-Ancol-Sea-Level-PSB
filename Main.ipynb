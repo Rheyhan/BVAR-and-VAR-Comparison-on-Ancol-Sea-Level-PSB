{
 "cells": [
  {
   "cell_type": "markdown",
   "metadata": {},
   "source": [
    "#### References\n",
    "1. https://www.hindawi.com/journals/complexity/2021/9985072/\n",
    "2. https://www.stata.com/features/overview/bayesian-VAR-models/\n",
    "3. https://ejournal.upi.edu/index.php/JEM/article/view/25742\n",
    "\n",
    "4. https://www.pymc.io/projects/examples/en/latest/time_series/bayesian_var_model.html\n",
    "5. https://barnesanalytics.com/bayesian-auto-regressive-time-series-analysis-pymc3/\n",
    "6. https://github.com/ChadFulton/scipy2022-bayesian-time-series/blob/main/Poster.ipynb\n",
    "7. "
   ]
  },
  {
   "cell_type": "code",
   "execution_count": null,
   "metadata": {},
   "outputs": [],
   "source": []
  }
 ],
 "metadata": {
  "language_info": {
   "name": "python"
  }
 },
 "nbformat": 4,
 "nbformat_minor": 2
}
